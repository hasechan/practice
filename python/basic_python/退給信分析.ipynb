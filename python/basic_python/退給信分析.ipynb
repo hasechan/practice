{
 "cells": [
  {
   "cell_type": "code",
   "execution_count": 1,
   "metadata": {
    "collapsed": true
   },
   "outputs": [],
   "source": [
    "import pandas as pd\n",
    "import numpy as np\n",
    "import re\n",
    "\n",
    "#csvから読み込む列の指定。末尾の番号は読み込むcsvファイル名に対応。\n",
    "\n",
    "List01 = [\"企業名称\",\"株式コード\",\"決算期\",\"<基本項目>１株当たり配当金（うち普通配当）（累計）\"]\n",
    "\n",
    "List02 = [\"企業名称\",\"株式コード\",\"決算期\",\"<貸借対照表（資産）>現金・預金／現金及び現金同等物\",\n",
    "          \"<貸借対照表（資産）>受取手形・売掛金／売掛金及びその他の短期債権\",\"<貸借対照表（資産）>棚卸資産\",\n",
    "          \"<貸借対照表（資産）>短期貸付金\",\"<貸借対照表（資産）>預け金・関係会社預け金\",\n",
    "          \"<貸借対照表（資産）>退職給付に係る資産（前払年金費用）\",\n",
    "          \"<貸借対照表（資産）>流動資産\",\"<貸借対照表（資産）>資産合計\"]\n",
    "\n",
    "List03 = [\"企業名称\",\"株式コード\",\"決算期\",\"<貸借対照表（負債）>支払手形・買掛金／買掛金及びその他の短期債務\",\n",
    "          \"<貸借対照表（負債）>短期借入金・社債合計\",\"<貸借対照表（負債）>預り金\",\n",
    "          \"<貸借対照表（負債）>退職給付に係る負債（退職給付引当金）\",\"<貸借対照表（負債）>負債合計\" ]\n",
    "\n",
    "List05 = [\"企業名称\",\"株式コード\",\"決算期\",\"<損益計算書（期首からの累計期間）>売上高・営業収益［累計］\",\n",
    "          \"<損益計算書（期首からの累計期間）>売上総利益［累計］\",\"<損益計算書（期首からの累計期間）>営業利益［累計］\",\n",
    "          \"<損益計算書（期首からの累計期間）>経常利益／税金等調整前当期純利益［累計］\",\n",
    "          \"<損益計算書（期首からの累計期間）>親会社株主に帰属する当期純利益（連結）／当期利益（単独）［累計］\"]\n",
    "\n",
    "List08 = [\"企業名称\",\"株式コード\",\"決算期\",\"<退職給付関係項目>退職給付債務\",\"<退職給付関係項目>年金資産額\",\n",
    "          \"<退職給付関係項目>前払年金費用\",\"<退職給付関係項目>退職給付引当金\"]"
   ]
  },
  {
   "cell_type": "code",
   "execution_count": 2,
   "metadata": {
    "collapsed": true
   },
   "outputs": [],
   "source": [
    "def read_csv_nikkei(filename, colList):\n",
    "    \"\"\"\n",
    "    日経NEEDのcsvデータを取得し、以下の作業を行う。\n",
    "    1. 株式コードが欠損値（「9999」）となっている一部企業に対し、適切なコードに変換\n",
    "    2. 決算期を分析対象年度に変換＆検索IDを付与\n",
    "    3. 不必要な列を削除＆検索IDを行ラベルにする\n",
    "    4. 列名から、「<>」に挟まれた文字を削除（文字名が長いと読みづらいので）\n",
    "    \"\"\"\n",
    "    df = pd.read_csv(\"data\\\\input\\\\\" + filename, encoding=\"shift-jis\",usecols = colList)\n",
    "\n",
    "    #株式コードが9999の分析対象企業に対し、適切な株式コードを設定\n",
    "    code_change = pd.read_csv('data\\\\input\\\\99.code_change_list.csv')\n",
    "    TempList = code_change[\"日経NEED企業名\"].tolist()\n",
    "    df[\"temp\"] = df['企業名称'].where(df[\"企業名称\"].isin(TempList), df['株式コード'])\n",
    "    codes = code_change.set_index('日経NEED企業名')[\"証券コード\"].to_dict()\n",
    "    df[\"temp\"].replace(codes,inplace = True)\n",
    "    df[\"株式コード\"] = df[\"temp\"]\n",
    "    df.drop(\"temp\",axis = 1, inplace = True)\n",
    "    \n",
    "    #決算期を分析対象年度に変換＆検索IDを付与\n",
    "    \n",
    "    df[\"決算期2\"] = pd.to_datetime(df['決算期'], format='%Y/%m/%d')\n",
    "    df[\"年1\"] = df[\"決算期2\"].dt.year-1\n",
    "    df[\"年2\"] = df[\"決算期2\"].dt.year-2\n",
    "    df[\"年度\"] = df['年1'].where(df[\"決算期2\"].dt.month >=3,df[\"年2\"])\n",
    "    df[\"検索ID\"] = df[\"株式コード\"].astype(str) + '_' + df['年度'].astype(str)\n",
    "\n",
    "    #不必要な列の削除＆検索IDを行ラベルにする\n",
    "    df.drop([\"決算期2\",\"年1\",\"年2\",\"企業名称\",\"株式コード\",\"決算期\", \"年度\"], axis = 1 , inplace = True)\n",
    "    df.set_index(\"検索ID\", inplace = True)\n",
    "    \n",
    "    #「<>」に挟まれた文字を削除\n",
    "    col_name = df.columns\n",
    "    col_replace = [re.sub('<.*>', \"\", s) for s in col_name]\n",
    "    df.columns = col_replace\n",
    "    return df"
   ]
  },
  {
   "cell_type": "code",
   "execution_count": 3,
   "metadata": {
    "collapsed": true
   },
   "outputs": [],
   "source": [
    "def read_csv_SPEEDA():\n",
    "    \"\"\"\n",
    "    SPEEDAのcsvデータを取得し、以下の作業を行う。\n",
    "    1. 企業毎に、決算期ごとの従業員平均給与、期末従業員数、従業員平均年齢を記載したリストを作成する。\n",
    "    2. NANの決算期を削除＆決算期を分析対象年度に変換＆検索IDを付与\n",
    "    3. 不必要な列を削除＆検索IDを行ラベルにする\n",
    "    \"\"\"\n",
    "    #コード、企業名、設立年月日、上場年月日のみを取得したdataframe\n",
    "    df_ref = pd.read_csv(\"data\\\\input\\\\10.SPEEDA.csv\", encoding=\"utf-8_sig\",usecols = [\"コード\",\"企業名称\",\"設立年月日\",\"上場年月日\"])\n",
    "\n",
    "    #決算期ごとに、従業員平均給与、期末従業員数、従業員平均年齢を取得\n",
    "    yearList = [\"2011\",\"2012\",\"2013\",\"2014\",\"2015\",\"2016\",\"2017\",\"2018\"]\n",
    "    d = {}\n",
    "    for i in yearList:\n",
    "        d[i] = pd.concat([df_ref,\n",
    "                             pd.read_csv(\"data\\\\input\\\\10.SPEEDA.csv\", encoding=\"utf-8_sig\",usecols = [\"決算期_\"+i,\"従業員平均給与_\"+i,\"期末従業員数_\"+i,\"従業員平均年齢_\"+i])\n",
    "                         ], axis=1).rename(columns={'決算期_'+i: '決算期', '従業員平均給与_'+i: '従業員平均給与', '期末従業員数_'+i: '期末従業員数', '従業員平均年齢_'+i: '従業員平均年齢'})\n",
    "    df = pd.concat([d[i] for i in yearList])\n",
    "    \n",
    "    #NANの決算期を削除＆決算期を分析対象年度に変換＆検索IDを付与\n",
    "    df.dropna(subset=[\"決算期\"],inplace = True)\n",
    "    df[\"決算期2\"] = pd.to_datetime(df['決算期'], format='%Y/%m')\n",
    "    df[\"年1\"] = df[\"決算期2\"].dt.year-1\n",
    "    df[\"年2\"] = df[\"決算期2\"].dt.year-2\n",
    "    df[\"年度\"] = df['年1'].where(df[\"決算期2\"].dt.month >=3,df[\"年2\"])\n",
    "    df[\"年度\"].astype(np.int64)\n",
    "    df[\"検索ID\"] = df[\"コード\"].astype(str) + '_' + df['年度'].astype(str)\n",
    "    \n",
    "    #不必要な列の削除＆検索IDを行ラベルにする\n",
    "    df.drop([\"決算期2\",\"年1\",\"年2\",\"企業名称\",\"コード\", \"年度\"], axis = 1 , inplace = True)\n",
    "    df.set_index(\"検索ID\", inplace = True)\n",
    "    return df"
   ]
  },
  {
   "cell_type": "code",
   "execution_count": 4,
   "metadata": {
    "collapsed": true
   },
   "outputs": [],
   "source": [
    "def read_csv_Taikyu():\n",
    "    \"\"\"\n",
    "    退給信のcsvデータを取得し、分析対象外の企業を削除＆検索IDを行ラベルにする\n",
    "    \"\"\"\n",
    "    df = pd.read_csv('data\\\\input\\\\00.corpdata.csv').sort_values([\"証券コード\",\"年度\"]).set_index(\"検索ID\")\n",
    "    cut_sector = pd.read_csv('data\\\\input\\\\97.cut_sector_list.csv')\n",
    "    cut_corp = pd.read_csv('data\\\\input\\\\98.cut_corp_list.csv')\n",
    "\n",
    "    sec = cut_sector[\"分析対象外業種\"].values.tolist()\n",
    "    corp = cut_corp[\"分析対象外企業コード\"].values.tolist()\n",
    "    df_temp = df[~df[\"業種\"].isin(sec)]\n",
    "    df_temp2 = df_temp[~df_temp[\"証券コード\"].isin(corp)]\n",
    "    return df_temp2"
   ]
  },
  {
   "cell_type": "code",
   "execution_count": 5,
   "metadata": {
    "collapsed": true,
    "scrolled": false
   },
   "outputs": [],
   "source": [
    "#データを読み込み、マージする\n",
    "\n",
    "#他給信設定状況の取得\n",
    "df00 = read_csv_Taikyu()\n",
    "\n",
    "#日経NEEDの取得\n",
    "df01 = read_csv_nikkei(\"01.BASE.csv\",List01)    \n",
    "df02 = read_csv_nikkei(\"02.BS(ASSET).csv\",List02)\n",
    "df03 = read_csv_nikkei(\"03.BS(LIABILITY).csv\",List03)\n",
    "df08 = read_csv_nikkei(\"08.RETIRE.csv\",List08)\n",
    "\n",
    "#SPEEDAの取得\n",
    "df10 = read_csv_SPEEDA()\n",
    "\n",
    "df = df00.join(df01)\n",
    "df = df.join(df02)\n",
    "df = df.join(df03)\n",
    "df = df.join(df05)\n",
    "#df = df.join(df08)\n",
    "df = df.join(df10)"
   ]
  },
  {
   "cell_type": "code",
   "execution_count": 28,
   "metadata": {
    "collapsed": true,
    "scrolled": false
   },
   "outputs": [],
   "source": [
    "#現預金比率など、分析する数値を計算\n",
    "\n",
    "df.fillna({\"短期貸付金\":0, \n",
    "           \"預け金・関係会社預け金\": 0, \n",
    "           \"受取手形・売掛金／売掛金及びその他の短期債権\": 0,\n",
    "           \"棚卸資産\": 0,\n",
    "           \"支払手形・買掛金／買掛金及びその他の短期債務\" : 0,\n",
    "           \"退職給付に係る負債（退職給付引当金）\": 0,\n",
    "           \"退職給付に係る資産（前払年金費用）\" : 0\n",
    "          }, inplace = True)\n",
    "\n",
    "df[\"現預金/資産合計\"] = (df[\"現金・預金／現金及び現金同等物\"] / df[\"資産合計\"]).round(3)\n",
    "df[\"現預金+短期貸付金+預け金/資産合計\"] = ((df[\"現金・預金／現金及び現金同等物\"] + df[\"短期貸付金\"] + df[\"預け金・関係会社預け金\"])/df[\"資産合計\"]).round(3)\n",
    "df[\"運転資金/資産合計\"] = ((df[\"受取手形・売掛金／売掛金及びその他の短期債権\"] + df[\"棚卸資産\"] -df[\"支払手形・買掛金／買掛金及びその他の短期債務\"])/df[\"資産合計\"]).round(3)\n",
    "df[\"現預金+短期貸付金+預け金+運転資金/資産合計\"] = df[\"現預金+短期貸付金+預け金/資産合計\"]+ df[\"運転資金/資産合計\"]\n",
    "df[\"退職給付引当金/資産合計\"] = (df[\"退職給付に係る負債（退職給付引当金）\"] / df[\"資産合計\"]).round(3)\n",
    "df[\"前払年金費用/資産合計\"] = (df[\"退職給付に係る資産（前払年金費用）\"] / df[\"資産合計\"]).round(3)"
   ]
  },
  {
   "cell_type": "code",
   "execution_count": 29,
   "metadata": {
    "collapsed": true
   },
   "outputs": [],
   "source": [
    "def get_data(df, d0,d1):\n",
    "    \"\"\"\n",
    "    分析用データを取得。\n",
    "    入力項目は、\n",
    "    df：データ全体。\n",
    "    d0：当年度の値を使う項目名\n",
    "    d1：前年度の値を使う項目名\n",
    "    なお、前年度の数値は、dfが証券コード＞年度の順に昇順になっていないとうまく拾えないので注意。\n",
    "    \"\"\"    \n",
    "    temp_df = df[d0]\n",
    "\n",
    "    for i in d1:\n",
    "        df[\"前年_\" + i] = df[i].shift().where(df[\"年度\"] != 2012, \"-\")\n",
    "        temp_df = pd.concat([temp_df,df[\"前年_\" + i]],axis = 1)        \n",
    "\n",
    "    return temp_df"
   ]
  },
  {
   "cell_type": "code",
   "execution_count": 30,
   "metadata": {
    "collapsed": true
   },
   "outputs": [],
   "source": [
    "#分析用データの取得。\n",
    "\n",
    "#当年度の値を使う項目   \n",
    "d0 = [\n",
    "    \"証券コード\",\n",
    "    \"退給信設定状況\",\n",
    "    \"資産合計\",\n",
    "    \"年度\"\n",
    "]\n",
    "#前年度の値を使う項目   \n",
    "d1 = [\n",
    "    \"現預金/資産合計\",\n",
    "    \"現預金+短期貸付金+預け金/資産合計\",\n",
    "    \"運転資金/資産合計\",\n",
    "    \"現預金+短期貸付金+預け金+運転資金/資産合計\",\n",
    "    \"退職給付引当金/資産合計\",\n",
    "    \"前払年金費用/資産合計\"\n",
    "]\n",
    "\n",
    "test_data = get_data(df,d0,d1)\n",
    "\n",
    "\"\"\"\n",
    "分析に使用しない企業＆年度を、データから削除\n",
    "分析に使用する条件は、\n",
    "＜欠損値に関する条件＞\n",
    "　・年度 <> 2012\n",
    "　・資産合計 <> NaN\n",
    "　・前年_現預金/資産合計 <> NaN\n",
    "\n",
    "＜分析対象企業に関する条件＞\n",
    "　・退職給付引当金または前払年金費用 > 0\n",
    "  ・退給信設定状況 != 99\n",
    "\"\"\"\n",
    "\n",
    "test_data = test_data[test_data[\"年度\"]!=2012]\n",
    "test_data.dropna(subset=[\"資産合計\"], inplace = True)\n",
    "test_data.dropna(subset=[\"前年_現預金/資産合計\"], inplace = True)\n",
    "\n",
    "test_data = test_data[((test_data[\"前年_退職給付引当金/資産合計\"] + test_data[\"前年_前払年金費用/資産合計\"]) > 0) \n",
    "                      & test_data[\"退給信設定状況\"] != 99]\n",
    "\n",
    "\"\"\"\n",
    "分析では、\n",
    "　運用版を設定した年度=1\n",
    "　その他=0\n",
    "として、ロジスティック回帰を行う\n",
    "\"\"\"\n",
    "\n",
    "test_data.loc[test_data[\"退給信設定状況\"]  == 22, \"y\"] = 1\n",
    "test_data.loc[test_data[\"退給信設定状況\"]  != 22, \"y\"] = 0\n",
    "\n",
    "#test_data.drop([\"年度\",\"検索ID\",\"証券コード\",\"退給信設定状況\"], axis=1)\n",
    "test_data.drop([\"年度\",\"証券コード\",\"退給信設定状況\"], axis=1, inplace = True)\n",
    "\n",
    "df.to_csv(\"data\\\\df.csv\",encoding =\"utf-8_sig\")\n",
    "test_data.to_csv(\"data\\\\test_data.csv\",encoding =\"utf-8_sig\")"
   ]
  },
  {
   "cell_type": "code",
   "execution_count": 46,
   "metadata": {
    "scrolled": false
   },
   "outputs": [
    {
     "name": "stdout",
     "output_type": "stream",
     "text": [
      "['資産合計' '前年_現預金/資産合計' '前年_現預金+短期貸付金+預け金/資産合計' '前年_運転資金/資産合計'\n",
      " '前年_現預金+短期貸付金+預け金+運転資金/資産合計' '前年_退職給付引当金/資産合計' '前年_前払年金費用/資産合計' 'y']\n"
     ]
    },
    {
     "data": {
      "text/plain": [
       "<matplotlib.axes._subplots.AxesSubplot at 0x21d8d6fd940>"
      ]
     },
     "execution_count": 46,
     "metadata": {},
     "output_type": "execute_result"
    },
    {
     "data": {
      "image/png": "[encoded data removed]",
      "text/plain": [
       "<Figure size 432x288 with 1 Axes>"
      ]
     },
     "metadata": {
      "needs_background": "light"
     },
     "output_type": "display_data"
    }
   ],
   "source": [
    "#グラフ表示\n",
    "import matplotlib as mpl\n",
    "import matplotlib.pyplot as plt\n",
    "import seaborn as sns\n",
    "\n",
    "%matplotlib inline\n",
    "\n",
    "d_list = test_data.columns.values\n",
    "print(d_list)\n",
    "\n",
    "# for i in d_list:\n",
    "#     test_data[i] = test_data[i].astype(float)\n",
    "#     sns.boxplot( x=\"y\", y=i, data=test_data, palette=\"PRGn\")\n",
    "\n",
    "sns.boxplot( x=\"y\", y='前年_退職給付引当金/資産合計', data=test_data, palette=\"PRGn\")\n",
    "    \n",
    "    "
   ]
  },
  {
   "cell_type": "code",
   "execution_count": 51,
   "metadata": {
    "collapsed": true,
    "scrolled": false
   },
   "outputs": [],
   "source": [
    "#分析はここから\n",
    "#必要なライブラリのインポート\n",
    "import pandas as pd\n",
    "import numpy as np\n",
    "import math\n",
    "import matplotlib.pyplot as plt\n",
    "import statsmodels.api as sm\n",
    "from sklearn.feature_selection import RFE\n",
    "from sklearn import model_selection\n",
    "from sklearn.linear_model import LogisticRegression\n",
    "from sklearn.model_selection import train_test_split\n",
    "from sklearn.model_selection import cross_val_score\n",
    "from sklearn import metrics\n",
    "from sklearn.metrics import confusion_matrix\n",
    "from sklearn.metrics import roc_auc_score\n",
    "from sklearn.metrics import roc_curve\n",
    "from sklearn.metrics import classification_report\n",
    "from matplotlib.font_manager import FontProperties\n",
    "from sklearn import datasets\n",
    "\n"
   ]
  },
  {
   "cell_type": "code",
   "execution_count": 52,
   "metadata": {},
   "outputs": [
    {
     "name": "stdout",
     "output_type": "stream",
     "text": [
      "['資産合計' '前年_現預金/資産合計' '前年_現預金+短期貸付金+預け金/資産合計' '前年_運転資金/資産合計'\n",
      " '前年_現預金+短期貸付金+預け金+運転資金/資産合計' '前年_退職給付引当金/資産合計' '前年_前払年金費用/資産合計']\n",
      "Optimization terminated successfully.\n",
      "         Current function value: 0.046972\n",
      "         Iterations 12\n",
      "                           Logit Regression Results                           \n",
      "==============================================================================\n",
      "Dep. Variable:                      y   No. Observations:                17745\n",
      "Model:                          Logit   Df Residuals:                    17739\n",
      "Method:                           MLE   Df Model:                            5\n",
      "Date:                Mon, 07 Jan 2019   Pseudo R-squ.:                  -1.138\n",
      "Time:                        23:22:46   Log-Likelihood:                -833.52\n",
      "converged:                       True   LL-Null:                       -389.86\n",
      "                                        LLR p-value:                     1.000\n",
      "==============================================================================================\n",
      "                                 coef    std err          z      P>|z|      [0.025      0.975]\n",
      "----------------------------------------------------------------------------------------------\n",
      "資産合計                       -4.264e-06    6.9e-07     -6.178      0.000   -5.62e-06   -2.91e-06\n",
      "前年_現預金/資産合計                   -7.5258      3.821     -1.970      0.049     -15.015      -0.037\n",
      "前年_現預金+短期貸付金+預け金/資産合計        -14.0068   3.03e+07  -4.63e-07      1.000   -5.93e+07    5.93e+07\n",
      "前年_運転資金/資産合計                   2.8723   3.03e+07   9.49e-08      1.000   -5.93e+07    5.93e+07\n",
      "前年_現預金+短期貸付金+預け金+運転資金/資産合計   -11.1345   3.03e+07  -3.68e-07      1.000   -5.93e+07    5.93e+07\n",
      "前年_退職給付引当金/資産合計              -18.8353      3.978     -4.735      0.000     -26.632     -11.039\n",
      "前年_前払年金費用/資産合計               -90.9150     28.761     -3.161      0.002    -147.285     -34.545\n",
      "==============================================================================================\n",
      "\n",
      "Possibly complete quasi-separation: A fraction 0.39 of observations can be\n",
      "perfectly predicted. This might indicate that there is complete\n",
      "quasi-separation. In this case some parameters will not be identified.\n"
     ]
    },
    {
     "data": {
      "image/png": "[encoded data removed]",
      "text/plain": [
       "<Figure size 1296x1440 with 14 Axes>"
      ]
     },
     "metadata": {
      "needs_background": "light"
     },
     "output_type": "display_data"
    }
   ],
   "source": [
    "#数値データを指定 \n",
    "num_col = test_data.drop(\"y\", axis = 1).columns.values\n",
    "print(num_col)\n",
    "\n",
    "fig, axes = plt.subplots(nrows = len(num_col), ncols = 2, figsize = (18, 20))\n",
    " \n",
    "# for x in num_col:\n",
    "#     freqs = pd.crosstab(test_data[x], test_data[\"y\"]) #出現頻度データを作成\n",
    "#     freqs.plot(ax = axes[num_col.index(x), 0], kind = 'area') #左カラムにプロット\n",
    "#     props = freqs.div(freqs.sum(1).astype(float), axis = 0) #出現頻度データから割合（100%）データを作成\n",
    "#     props.plot(ax = axes[num_col.index(x), 1], kind = 'area') #右カラムにプロット\n",
    "\n",
    "#     fig.tight_layout()\n",
    "# plt.show()\n",
    "\n",
    "#選択する変数の設定（ここでは全部）\n",
    "selected_features = num_col\n",
    "\n",
    "#RFEから選択された変数だけのデータに整理する\n",
    "selected_X = test_data[selected_features]\n",
    " \n",
    "#モデルを推定する\n",
    "logit_model = sm.Logit(test_data[\"y\"], selected_X)\n",
    "result = logit_model.fit()\n",
    "print(result.summary())"
   ]
  },
  {
   "cell_type": "code",
   "execution_count": 53,
   "metadata": {},
   "outputs": [
    {
     "name": "stdout",
     "output_type": "stream",
     "text": [
      "0.946444812614294\n"
     ]
    }
   ],
   "source": [
    "#ロジスティック変換の逆変換（ロジット表現から確率表現へ）\n",
    "logit = 2.872\n",
    "p = math.exp(logit) / (1 + math.exp(logit))\n",
    "print(p) #事象が発生する確率"
   ]
  }
 ],
 "metadata": {
  "kernelspec": {
   "display_name": "Python 3",
   "language": "python",
   "name": "python3"
  },
  "language_info": {
   "codemirror_mode": {
    "name": "ipython",
    "version": 3
   },
   "file_extension": ".py",
   "mimetype": "text/x-python",
   "name": "python",
   "nbconvert_exporter": "python",
   "pygments_lexer": "ipython3",
   "version": "3.7.4"
  }
 },
 "nbformat": 4,
 "nbformat_minor": 2
}
