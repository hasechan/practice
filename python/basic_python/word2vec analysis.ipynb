{
 "cells": [
  {
   "cell_type": "code",
   "execution_count": 42,
   "metadata": {
    "collapsed": true
   },
   "outputs": [],
   "source": [
    "import pandas as pd\n",
    "df=pd.read_csv(\"word2bec.csv\")\n",
    "import numpy as np\n",
    "import time"
   ]
  },
  {
   "cell_type": "code",
   "execution_count": 2,
   "metadata": {},
   "outputs": [
    {
     "data": {
      "text/html": [
       "<div>\n",
       "<table border=\"1\" class=\"dataframe\">\n",
       "  <thead>\n",
       "    <tr style=\"text-align: right;\">\n",
       "      <th></th>\n",
       "      <th>Unnamed: 0</th>\n",
       "      <th>0</th>\n",
       "      <th>0.1</th>\n",
       "      <th>1</th>\n",
       "      <th>2</th>\n",
       "      <th>3</th>\n",
       "      <th>4</th>\n",
       "      <th>5</th>\n",
       "      <th>6</th>\n",
       "      <th>7</th>\n",
       "      <th>...</th>\n",
       "      <th>40</th>\n",
       "      <th>41</th>\n",
       "      <th>42</th>\n",
       "      <th>43</th>\n",
       "      <th>44</th>\n",
       "      <th>45</th>\n",
       "      <th>46</th>\n",
       "      <th>47</th>\n",
       "      <th>48</th>\n",
       "      <th>49</th>\n",
       "    </tr>\n",
       "  </thead>\n",
       "  <tbody>\n",
       "    <tr>\n",
       "      <th>0</th>\n",
       "      <td>0</td>\n",
       "      <td>5</td>\n",
       "      <td>-0.008193</td>\n",
       "      <td>0.329279</td>\n",
       "      <td>0.625574</td>\n",
       "      <td>0.496134</td>\n",
       "      <td>-0.333714</td>\n",
       "      <td>0.289197</td>\n",
       "      <td>-0.747551</td>\n",
       "      <td>-0.244537</td>\n",
       "      <td>...</td>\n",
       "      <td>0.224683</td>\n",
       "      <td>0.270239</td>\n",
       "      <td>-0.287705</td>\n",
       "      <td>-0.401288</td>\n",
       "      <td>0.115455</td>\n",
       "      <td>-0.007333</td>\n",
       "      <td>-0.036545</td>\n",
       "      <td>0.338190</td>\n",
       "      <td>-0.247735</td>\n",
       "      <td>0.002495</td>\n",
       "    </tr>\n",
       "    <tr>\n",
       "      <th>1</th>\n",
       "      <td>1</td>\n",
       "      <td>2</td>\n",
       "      <td>0.378093</td>\n",
       "      <td>-0.187072</td>\n",
       "      <td>-0.040618</td>\n",
       "      <td>0.570556</td>\n",
       "      <td>-0.071080</td>\n",
       "      <td>0.267960</td>\n",
       "      <td>-0.267498</td>\n",
       "      <td>-0.104090</td>\n",
       "      <td>...</td>\n",
       "      <td>0.646922</td>\n",
       "      <td>0.665386</td>\n",
       "      <td>-0.029825</td>\n",
       "      <td>-0.047749</td>\n",
       "      <td>0.219141</td>\n",
       "      <td>-0.276389</td>\n",
       "      <td>-0.107161</td>\n",
       "      <td>-0.109785</td>\n",
       "      <td>0.665813</td>\n",
       "      <td>-0.319745</td>\n",
       "    </tr>\n",
       "    <tr>\n",
       "      <th>2</th>\n",
       "      <td>2</td>\n",
       "      <td>13</td>\n",
       "      <td>0.425933</td>\n",
       "      <td>-0.147378</td>\n",
       "      <td>0.346750</td>\n",
       "      <td>0.788827</td>\n",
       "      <td>-0.256113</td>\n",
       "      <td>0.000148</td>\n",
       "      <td>-0.780406</td>\n",
       "      <td>0.268517</td>\n",
       "      <td>...</td>\n",
       "      <td>0.698619</td>\n",
       "      <td>0.141133</td>\n",
       "      <td>-0.439271</td>\n",
       "      <td>-0.273757</td>\n",
       "      <td>-0.339629</td>\n",
       "      <td>-0.228902</td>\n",
       "      <td>-0.007452</td>\n",
       "      <td>0.052214</td>\n",
       "      <td>0.351986</td>\n",
       "      <td>-0.166502</td>\n",
       "    </tr>\n",
       "    <tr>\n",
       "      <th>3</th>\n",
       "      <td>3</td>\n",
       "      <td>11</td>\n",
       "      <td>0.305797</td>\n",
       "      <td>-0.114674</td>\n",
       "      <td>-0.112830</td>\n",
       "      <td>1.366427</td>\n",
       "      <td>-0.265462</td>\n",
       "      <td>0.334894</td>\n",
       "      <td>-0.473779</td>\n",
       "      <td>0.472661</td>\n",
       "      <td>...</td>\n",
       "      <td>0.989978</td>\n",
       "      <td>0.069972</td>\n",
       "      <td>-0.337342</td>\n",
       "      <td>-0.162852</td>\n",
       "      <td>-0.034660</td>\n",
       "      <td>-0.668402</td>\n",
       "      <td>-0.068475</td>\n",
       "      <td>0.269458</td>\n",
       "      <td>0.271057</td>\n",
       "      <td>-0.260155</td>\n",
       "    </tr>\n",
       "    <tr>\n",
       "      <th>4</th>\n",
       "      <td>4</td>\n",
       "      <td>3</td>\n",
       "      <td>0.049649</td>\n",
       "      <td>0.102235</td>\n",
       "      <td>-0.428460</td>\n",
       "      <td>1.526369</td>\n",
       "      <td>-0.187836</td>\n",
       "      <td>0.693541</td>\n",
       "      <td>-0.376602</td>\n",
       "      <td>0.601414</td>\n",
       "      <td>...</td>\n",
       "      <td>1.113309</td>\n",
       "      <td>-0.240243</td>\n",
       "      <td>-0.405946</td>\n",
       "      <td>-0.173767</td>\n",
       "      <td>0.344461</td>\n",
       "      <td>-0.559076</td>\n",
       "      <td>0.012242</td>\n",
       "      <td>0.605369</td>\n",
       "      <td>0.052500</td>\n",
       "      <td>-0.335685</td>\n",
       "    </tr>\n",
       "  </tbody>\n",
       "</table>\n",
       "<p>5 rows × 52 columns</p>\n",
       "</div>"
      ],
      "text/plain": [
       "   Unnamed: 0   0       0.1         1         2         3         4         5  \\\n",
       "0           0   5 -0.008193  0.329279  0.625574  0.496134 -0.333714  0.289197   \n",
       "1           1   2  0.378093 -0.187072 -0.040618  0.570556 -0.071080  0.267960   \n",
       "2           2  13  0.425933 -0.147378  0.346750  0.788827 -0.256113  0.000148   \n",
       "3           3  11  0.305797 -0.114674 -0.112830  1.366427 -0.265462  0.334894   \n",
       "4           4   3  0.049649  0.102235 -0.428460  1.526369 -0.187836  0.693541   \n",
       "\n",
       "          6         7    ...           40        41        42        43  \\\n",
       "0 -0.747551 -0.244537    ...     0.224683  0.270239 -0.287705 -0.401288   \n",
       "1 -0.267498 -0.104090    ...     0.646922  0.665386 -0.029825 -0.047749   \n",
       "2 -0.780406  0.268517    ...     0.698619  0.141133 -0.439271 -0.273757   \n",
       "3 -0.473779  0.472661    ...     0.989978  0.069972 -0.337342 -0.162852   \n",
       "4 -0.376602  0.601414    ...     1.113309 -0.240243 -0.405946 -0.173767   \n",
       "\n",
       "         44        45        46        47        48        49  \n",
       "0  0.115455 -0.007333 -0.036545  0.338190 -0.247735  0.002495  \n",
       "1  0.219141 -0.276389 -0.107161 -0.109785  0.665813 -0.319745  \n",
       "2 -0.339629 -0.228902 -0.007452  0.052214  0.351986 -0.166502  \n",
       "3 -0.034660 -0.668402 -0.068475  0.269458  0.271057 -0.260155  \n",
       "4  0.344461 -0.559076  0.012242  0.605369  0.052500 -0.335685  \n",
       "\n",
       "[5 rows x 52 columns]"
      ]
     },
     "execution_count": 2,
     "metadata": {},
     "output_type": "execute_result"
    }
   ],
   "source": [
    "df.head()"
   ]
  },
  {
   "cell_type": "markdown",
   "metadata": {},
   "source": [
    "# データ分離"
   ]
  },
  {
   "cell_type": "code",
   "execution_count": 10,
   "metadata": {
    "collapsed": true
   },
   "outputs": [],
   "source": [
    "df_Y=df[\"0\"]\n",
    "df_X=df.iloc[:,2:]"
   ]
  },
  {
   "cell_type": "code",
   "execution_count": 12,
   "metadata": {},
   "outputs": [
    {
     "data": {
      "text/html": [
       "<div>\n",
       "<table border=\"1\" class=\"dataframe\">\n",
       "  <thead>\n",
       "    <tr style=\"text-align: right;\">\n",
       "      <th></th>\n",
       "      <th>0.1</th>\n",
       "      <th>1</th>\n",
       "      <th>2</th>\n",
       "      <th>3</th>\n",
       "      <th>4</th>\n",
       "      <th>5</th>\n",
       "      <th>6</th>\n",
       "      <th>7</th>\n",
       "      <th>8</th>\n",
       "      <th>9</th>\n",
       "      <th>...</th>\n",
       "      <th>40</th>\n",
       "      <th>41</th>\n",
       "      <th>42</th>\n",
       "      <th>43</th>\n",
       "      <th>44</th>\n",
       "      <th>45</th>\n",
       "      <th>46</th>\n",
       "      <th>47</th>\n",
       "      <th>48</th>\n",
       "      <th>49</th>\n",
       "    </tr>\n",
       "  </thead>\n",
       "  <tbody>\n",
       "    <tr>\n",
       "      <th>0</th>\n",
       "      <td>-0.008193</td>\n",
       "      <td>0.329279</td>\n",
       "      <td>0.625574</td>\n",
       "      <td>0.496134</td>\n",
       "      <td>-0.333714</td>\n",
       "      <td>0.289197</td>\n",
       "      <td>-0.747551</td>\n",
       "      <td>-0.244537</td>\n",
       "      <td>-0.151849</td>\n",
       "      <td>0.144963</td>\n",
       "      <td>...</td>\n",
       "      <td>0.224683</td>\n",
       "      <td>0.270239</td>\n",
       "      <td>-0.287705</td>\n",
       "      <td>-0.401288</td>\n",
       "      <td>0.115455</td>\n",
       "      <td>-0.007333</td>\n",
       "      <td>-0.036545</td>\n",
       "      <td>0.338190</td>\n",
       "      <td>-0.247735</td>\n",
       "      <td>0.002495</td>\n",
       "    </tr>\n",
       "    <tr>\n",
       "      <th>1</th>\n",
       "      <td>0.378093</td>\n",
       "      <td>-0.187072</td>\n",
       "      <td>-0.040618</td>\n",
       "      <td>0.570556</td>\n",
       "      <td>-0.071080</td>\n",
       "      <td>0.267960</td>\n",
       "      <td>-0.267498</td>\n",
       "      <td>-0.104090</td>\n",
       "      <td>-0.244015</td>\n",
       "      <td>0.091265</td>\n",
       "      <td>...</td>\n",
       "      <td>0.646922</td>\n",
       "      <td>0.665386</td>\n",
       "      <td>-0.029825</td>\n",
       "      <td>-0.047749</td>\n",
       "      <td>0.219141</td>\n",
       "      <td>-0.276389</td>\n",
       "      <td>-0.107161</td>\n",
       "      <td>-0.109785</td>\n",
       "      <td>0.665813</td>\n",
       "      <td>-0.319745</td>\n",
       "    </tr>\n",
       "    <tr>\n",
       "      <th>2</th>\n",
       "      <td>0.425933</td>\n",
       "      <td>-0.147378</td>\n",
       "      <td>0.346750</td>\n",
       "      <td>0.788827</td>\n",
       "      <td>-0.256113</td>\n",
       "      <td>0.000148</td>\n",
       "      <td>-0.780406</td>\n",
       "      <td>0.268517</td>\n",
       "      <td>-0.558237</td>\n",
       "      <td>0.138638</td>\n",
       "      <td>...</td>\n",
       "      <td>0.698619</td>\n",
       "      <td>0.141133</td>\n",
       "      <td>-0.439271</td>\n",
       "      <td>-0.273757</td>\n",
       "      <td>-0.339629</td>\n",
       "      <td>-0.228902</td>\n",
       "      <td>-0.007452</td>\n",
       "      <td>0.052214</td>\n",
       "      <td>0.351986</td>\n",
       "      <td>-0.166502</td>\n",
       "    </tr>\n",
       "    <tr>\n",
       "      <th>3</th>\n",
       "      <td>0.305797</td>\n",
       "      <td>-0.114674</td>\n",
       "      <td>-0.112830</td>\n",
       "      <td>1.366427</td>\n",
       "      <td>-0.265462</td>\n",
       "      <td>0.334894</td>\n",
       "      <td>-0.473779</td>\n",
       "      <td>0.472661</td>\n",
       "      <td>-0.600808</td>\n",
       "      <td>0.977719</td>\n",
       "      <td>...</td>\n",
       "      <td>0.989978</td>\n",
       "      <td>0.069972</td>\n",
       "      <td>-0.337342</td>\n",
       "      <td>-0.162852</td>\n",
       "      <td>-0.034660</td>\n",
       "      <td>-0.668402</td>\n",
       "      <td>-0.068475</td>\n",
       "      <td>0.269458</td>\n",
       "      <td>0.271057</td>\n",
       "      <td>-0.260155</td>\n",
       "    </tr>\n",
       "    <tr>\n",
       "      <th>4</th>\n",
       "      <td>0.049649</td>\n",
       "      <td>0.102235</td>\n",
       "      <td>-0.428460</td>\n",
       "      <td>1.526369</td>\n",
       "      <td>-0.187836</td>\n",
       "      <td>0.693541</td>\n",
       "      <td>-0.376602</td>\n",
       "      <td>0.601414</td>\n",
       "      <td>-0.610354</td>\n",
       "      <td>1.619612</td>\n",
       "      <td>...</td>\n",
       "      <td>1.113309</td>\n",
       "      <td>-0.240243</td>\n",
       "      <td>-0.405946</td>\n",
       "      <td>-0.173767</td>\n",
       "      <td>0.344461</td>\n",
       "      <td>-0.559076</td>\n",
       "      <td>0.012242</td>\n",
       "      <td>0.605369</td>\n",
       "      <td>0.052500</td>\n",
       "      <td>-0.335685</td>\n",
       "    </tr>\n",
       "  </tbody>\n",
       "</table>\n",
       "<p>5 rows × 50 columns</p>\n",
       "</div>"
      ],
      "text/plain": [
       "        0.1         1         2         3         4         5         6  \\\n",
       "0 -0.008193  0.329279  0.625574  0.496134 -0.333714  0.289197 -0.747551   \n",
       "1  0.378093 -0.187072 -0.040618  0.570556 -0.071080  0.267960 -0.267498   \n",
       "2  0.425933 -0.147378  0.346750  0.788827 -0.256113  0.000148 -0.780406   \n",
       "3  0.305797 -0.114674 -0.112830  1.366427 -0.265462  0.334894 -0.473779   \n",
       "4  0.049649  0.102235 -0.428460  1.526369 -0.187836  0.693541 -0.376602   \n",
       "\n",
       "          7         8         9    ...           40        41        42  \\\n",
       "0 -0.244537 -0.151849  0.144963    ...     0.224683  0.270239 -0.287705   \n",
       "1 -0.104090 -0.244015  0.091265    ...     0.646922  0.665386 -0.029825   \n",
       "2  0.268517 -0.558237  0.138638    ...     0.698619  0.141133 -0.439271   \n",
       "3  0.472661 -0.600808  0.977719    ...     0.989978  0.069972 -0.337342   \n",
       "4  0.601414 -0.610354  1.619612    ...     1.113309 -0.240243 -0.405946   \n",
       "\n",
       "         43        44        45        46        47        48        49  \n",
       "0 -0.401288  0.115455 -0.007333 -0.036545  0.338190 -0.247735  0.002495  \n",
       "1 -0.047749  0.219141 -0.276389 -0.107161 -0.109785  0.665813 -0.319745  \n",
       "2 -0.273757 -0.339629 -0.228902 -0.007452  0.052214  0.351986 -0.166502  \n",
       "3 -0.162852 -0.034660 -0.668402 -0.068475  0.269458  0.271057 -0.260155  \n",
       "4 -0.173767  0.344461 -0.559076  0.012242  0.605369  0.052500 -0.335685  \n",
       "\n",
       "[5 rows x 50 columns]"
      ]
     },
     "execution_count": 12,
     "metadata": {},
     "output_type": "execute_result"
    }
   ],
   "source": [
    "df_X.head()"
   ]
  },
  {
   "cell_type": "code",
   "execution_count": 79,
   "metadata": {
    "collapsed": true
   },
   "outputs": [],
   "source": [
    "#arrayバージョン\n",
    "np_X_train=np.array(df_X[:31987])\n",
    "np_Y_train=np.array(df_Y[:31987])\n",
    "np_X_test=np.array(df_X[31988:])\n",
    "np_Y_test=np.array(df_Y[31988:])"
   ]
  },
  {
   "cell_type": "code",
   "execution_count": 25,
   "metadata": {
    "collapsed": true
   },
   "outputs": [],
   "source": [
    "#dataframeバージョン\n",
    "df_X_train=df_X[:31987]\n",
    "df_Y_train=df_Y[:31987]\n",
    "df_X_test=df_X[31988:]\n",
    "df_Y_test=df_Y[31988:]"
   ]
  },
  {
   "cell_type": "code",
   "execution_count": 78,
   "metadata": {},
   "outputs": [
    {
     "data": {
      "text/plain": [
       "(31987, 50)"
      ]
     },
     "execution_count": 78,
     "metadata": {},
     "output_type": "execute_result"
    }
   ],
   "source": [
    "df_X_train.shape"
   ]
  },
  {
   "cell_type": "markdown",
   "metadata": {},
   "source": [
    "# ランダムフォレスト"
   ]
  },
  {
   "cell_type": "code",
   "execution_count": 100,
   "metadata": {},
   "outputs": [
    {
     "name": "stdout",
     "output_type": "stream",
     "text": [
      "経過時間：3.349816083908081\n"
     ]
    }
   ],
   "source": [
    "from sklearn.ensemble import RandomForestClassifier\n",
    "t1 = time.time() \n",
    "\n",
    "rfc_1 = RandomForestClassifier(random_state=0, n_estimators=10)\n",
    "rfc_1.fit(df_X_train, df_Y_train)\n",
    "\n",
    "t2 = time.time()\n",
    "# 経過時間を表示\n",
    "elapsed_time = t2-t1\n",
    "print(\"経過時間：{}\".format(elapsed_time))"
   ]
  },
  {
   "cell_type": "markdown",
   "metadata": {},
   "source": [
    "# 勾配ブースティング"
   ]
  },
  {
   "cell_type": "code",
   "execution_count": 52,
   "metadata": {},
   "outputs": [
    {
     "name": "stdout",
     "output_type": "stream",
     "text": [
      "経過時間：303.18718004226685\n"
     ]
    }
   ],
   "source": [
    "from sklearn.ensemble import GradientBoostingClassifier\n",
    "t1 = time.time() \n",
    "\n",
    "gbct = GradientBoostingClassifier(random_state=0, max_depth=3, learning_rate=0.1)\n",
    "gbct.fit(df_X_train, df_Y_train)\n",
    "\n",
    "t2 = time.time()\n",
    "# 経過時間を表示\n",
    "elapsed_time = t2-t1\n",
    "print(\"経過時間：{}\".format(elapsed_time))"
   ]
  },
  {
   "cell_type": "markdown",
   "metadata": {},
   "source": [
    "# lightGBM"
   ]
  },
  {
   "cell_type": "code",
   "execution_count": 119,
   "metadata": {},
   "outputs": [
    {
     "name": "stdout",
     "output_type": "stream",
     "text": [
      "[1]\tvalid_0's multi_logloss: 2.37133\n",
      "[2]\tvalid_0's multi_logloss: 2.2141\n",
      "[3]\tvalid_0's multi_logloss: 2.09407\n",
      "[4]\tvalid_0's multi_logloss: 1.99639\n",
      "[5]\tvalid_0's multi_logloss: 1.91495\n",
      "[6]\tvalid_0's multi_logloss: 1.84448\n",
      "[7]\tvalid_0's multi_logloss: 1.78451\n",
      "[8]\tvalid_0's multi_logloss: 1.73158\n",
      "[9]\tvalid_0's multi_logloss: 1.68494\n",
      "[10]\tvalid_0's multi_logloss: 1.64249\n",
      "[11]\tvalid_0's multi_logloss: 1.60517\n",
      "[12]\tvalid_0's multi_logloss: 1.57125\n",
      "[13]\tvalid_0's multi_logloss: 1.54075\n",
      "[14]\tvalid_0's multi_logloss: 1.51324\n",
      "[15]\tvalid_0's multi_logloss: 1.48787\n",
      "[16]\tvalid_0's multi_logloss: 1.46453\n",
      "[17]\tvalid_0's multi_logloss: 1.44345\n",
      "[18]\tvalid_0's multi_logloss: 1.42405\n",
      "[19]\tvalid_0's multi_logloss: 1.40625\n",
      "[20]\tvalid_0's multi_logloss: 1.38959\n",
      "[21]\tvalid_0's multi_logloss: 1.37424\n",
      "[22]\tvalid_0's multi_logloss: 1.36079\n",
      "[23]\tvalid_0's multi_logloss: 1.34796\n",
      "[24]\tvalid_0's multi_logloss: 1.3355\n",
      "[25]\tvalid_0's multi_logloss: 1.32453\n",
      "[26]\tvalid_0's multi_logloss: 1.31442\n",
      "[27]\tvalid_0's multi_logloss: 1.30446\n",
      "[28]\tvalid_0's multi_logloss: 1.29528\n",
      "[29]\tvalid_0's multi_logloss: 1.28689\n",
      "[30]\tvalid_0's multi_logloss: 1.2791\n",
      "[31]\tvalid_0's multi_logloss: 1.27171\n",
      "[32]\tvalid_0's multi_logloss: 1.26482\n",
      "[33]\tvalid_0's multi_logloss: 1.25842\n",
      "[34]\tvalid_0's multi_logloss: 1.25242\n",
      "[35]\tvalid_0's multi_logloss: 1.24719\n",
      "[36]\tvalid_0's multi_logloss: 1.24188\n",
      "[37]\tvalid_0's multi_logloss: 1.23698\n",
      "[38]\tvalid_0's multi_logloss: 1.2322\n",
      "[39]\tvalid_0's multi_logloss: 1.22776\n",
      "[40]\tvalid_0's multi_logloss: 1.22409\n",
      "[41]\tvalid_0's multi_logloss: 1.22051\n",
      "[42]\tvalid_0's multi_logloss: 1.21678\n",
      "[43]\tvalid_0's multi_logloss: 1.21334\n",
      "[44]\tvalid_0's multi_logloss: 1.21028\n",
      "[45]\tvalid_0's multi_logloss: 1.20716\n",
      "[46]\tvalid_0's multi_logloss: 1.20471\n",
      "[47]\tvalid_0's multi_logloss: 1.20188\n",
      "[48]\tvalid_0's multi_logloss: 1.19897\n",
      "[49]\tvalid_0's multi_logloss: 1.19626\n",
      "[50]\tvalid_0's multi_logloss: 1.19396\n",
      "[51]\tvalid_0's multi_logloss: 1.19149\n",
      "[52]\tvalid_0's multi_logloss: 1.18939\n",
      "[53]\tvalid_0's multi_logloss: 1.18704\n",
      "[54]\tvalid_0's multi_logloss: 1.18503\n",
      "[55]\tvalid_0's multi_logloss: 1.1832\n",
      "[56]\tvalid_0's multi_logloss: 1.18147\n",
      "[57]\tvalid_0's multi_logloss: 1.1795\n",
      "[58]\tvalid_0's multi_logloss: 1.1781\n",
      "[59]\tvalid_0's multi_logloss: 1.17659\n",
      "[60]\tvalid_0's multi_logloss: 1.17498\n",
      "[61]\tvalid_0's multi_logloss: 1.17357\n",
      "[62]\tvalid_0's multi_logloss: 1.17244\n",
      "[63]\tvalid_0's multi_logloss: 1.17129\n",
      "[64]\tvalid_0's multi_logloss: 1.17011\n",
      "[65]\tvalid_0's multi_logloss: 1.16877\n",
      "[66]\tvalid_0's multi_logloss: 1.16766\n",
      "[67]\tvalid_0's multi_logloss: 1.16644\n",
      "[68]\tvalid_0's multi_logloss: 1.16539\n",
      "[69]\tvalid_0's multi_logloss: 1.16426\n",
      "[70]\tvalid_0's multi_logloss: 1.16327\n",
      "[71]\tvalid_0's multi_logloss: 1.16238\n",
      "[72]\tvalid_0's multi_logloss: 1.16147\n",
      "[73]\tvalid_0's multi_logloss: 1.16075\n",
      "[74]\tvalid_0's multi_logloss: 1.16017\n",
      "[75]\tvalid_0's multi_logloss: 1.15921\n",
      "[76]\tvalid_0's multi_logloss: 1.15824\n",
      "[77]\tvalid_0's multi_logloss: 1.15753\n",
      "[78]\tvalid_0's multi_logloss: 1.15684\n",
      "[79]\tvalid_0's multi_logloss: 1.15617\n",
      "[80]\tvalid_0's multi_logloss: 1.15546\n",
      "[81]\tvalid_0's multi_logloss: 1.15487\n",
      "[82]\tvalid_0's multi_logloss: 1.15403\n",
      "[83]\tvalid_0's multi_logloss: 1.1532\n",
      "[84]\tvalid_0's multi_logloss: 1.15236\n",
      "[85]\tvalid_0's multi_logloss: 1.15179\n",
      "[86]\tvalid_0's multi_logloss: 1.15118\n",
      "[87]\tvalid_0's multi_logloss: 1.15077\n",
      "[88]\tvalid_0's multi_logloss: 1.15024\n",
      "[89]\tvalid_0's multi_logloss: 1.14964\n",
      "[90]\tvalid_0's multi_logloss: 1.14911\n",
      "[91]\tvalid_0's multi_logloss: 1.14847\n",
      "[92]\tvalid_0's multi_logloss: 1.14832\n",
      "[93]\tvalid_0's multi_logloss: 1.1482\n",
      "[94]\tvalid_0's multi_logloss: 1.14767\n",
      "[95]\tvalid_0's multi_logloss: 1.14733\n",
      "[96]\tvalid_0's multi_logloss: 1.14704\n",
      "[97]\tvalid_0's multi_logloss: 1.14675\n",
      "[98]\tvalid_0's multi_logloss: 1.14634\n",
      "[99]\tvalid_0's multi_logloss: 1.14603\n",
      "[100]\tvalid_0's multi_logloss: 1.14571\n",
      "経過時間：37.01032018661499\n"
     ]
    }
   ],
   "source": [
    "import lightgbm as lgb\n",
    "t1 = time.time() \n",
    "lgb_train = lgb.Dataset(np_X_train, np_Y_train)\n",
    "lgb_eval = lgb.Dataset(np_X_test, np_Y_test, reference=lgb_train)\n",
    "lgbm_params = {'objective': 'multiclass',\"num_class\":15}#多値分類＆クラスは１５\n",
    "model1 = lgb.train(lgbm_params, lgb_train, valid_sets=lgb_eval)\n",
    "t2 = time.time()\n",
    "# 経過時間を表示\n",
    "elapsed_time = t2-t1\n",
    "print(\"経過時間：{}\".format(elapsed_time))"
   ]
  },
  {
   "cell_type": "markdown",
   "metadata": {},
   "source": [
    "# SVM"
   ]
  },
  {
   "cell_type": "code",
   "execution_count": null,
   "metadata": {
    "collapsed": true
   },
   "outputs": [],
   "source": [
    "from sklearn.preprocessing import StandardScaler\n",
    "scaler = StandardScaler()\n",
    "\n",
    "scaler.fit(df_X_train)\n",
    "X_train_std = scaler.transform(df_X_train)\n",
    "\n",
    "scaler.fit(df_X_test)\n",
    "X_test_std = scaler.transform(df_X_test)"
   ]
  },
  {
   "cell_type": "code",
   "execution_count": 43,
   "metadata": {},
   "outputs": [
    {
     "name": "stdout",
     "output_type": "stream",
     "text": [
      "経過時間：238.69311094284058\n"
     ]
    }
   ],
   "source": [
    "from sklearn.svm import SVC\n",
    "t1 = time.time() \n",
    "rbf_svm = SVC(kernel='linear', gamma=0.1, C=10)\n",
    "rbf_svm.fit(df_X_train, df_Y_train)\n",
    "t2 = time.time()\n",
    "# 経過時間を表示\n",
    "elapsed_time = t2-t1\n",
    "print(\"経過時間：{}\".format(elapsed_time))"
   ]
  },
  {
   "cell_type": "markdown",
   "metadata": {},
   "source": [
    "# NN"
   ]
  },
  {
   "cell_type": "code",
   "execution_count": 47,
   "metadata": {},
   "outputs": [
    {
     "name": "stderr",
     "output_type": "stream",
     "text": [
      "Using TensorFlow backend.\n"
     ]
    }
   ],
   "source": [
    "import tensorflow as tf\n",
    "import keras\n",
    "from keras.models import Sequential\n",
    "from keras.layers import Dense, Activation\n",
    "from keras.optimizers import SGD"
   ]
  },
  {
   "cell_type": "code",
   "execution_count": 114,
   "metadata": {
    "collapsed": true
   },
   "outputs": [],
   "source": [
    "model = Sequential()  \n",
    "model.add(Dense(900,input_shape=(50,)))\n",
    "model.add(Activation('relu'))\n",
    "model.add(Dense(1000))\n",
    "model.add(Activation('relu'))\n",
    "model.add(Dense(500))\n",
    "model.add(Activation('relu'))\n",
    "model.add(Dense(15))\n",
    "model.add(Activation('softmax'))"
   ]
  },
  {
   "cell_type": "code",
   "execution_count": 115,
   "metadata": {},
   "outputs": [
    {
     "name": "stdout",
     "output_type": "stream",
     "text": [
      "Train on 31987 samples, validate on 13707 samples\n",
      "Epoch 1/10\n",
      "31987/31987 [==============================] - 11s 349us/step - loss: 2.0711 - acc: 0.3553 - val_loss: 1.7867 - val_acc: 0.4390\n",
      "Epoch 2/10\n",
      "31987/31987 [==============================] - 11s 335us/step - loss: 1.6627 - acc: 0.4968 - val_loss: 1.5435 - val_acc: 0.5235\n",
      "Epoch 3/10\n",
      "31987/31987 [==============================] - 11s 356us/step - loss: 1.5095 - acc: 0.5359 - val_loss: 1.4473 - val_acc: 0.5562\n",
      "Epoch 4/10\n",
      "31987/31987 [==============================] - 11s 337us/step - loss: 1.4332 - acc: 0.5589 - val_loss: 1.3860 - val_acc: 0.5753\n",
      "Epoch 5/10\n",
      "31987/31987 [==============================] - 11s 356us/step - loss: 1.3869 - acc: 0.5722 - val_loss: 1.3495 - val_acc: 0.5871\n",
      "Epoch 6/10\n",
      "31987/31987 [==============================] - 11s 332us/step - loss: 1.3543 - acc: 0.5807 - val_loss: 1.3234 - val_acc: 0.5936\n",
      "Epoch 7/10\n",
      "31987/31987 [==============================] - 11s 330us/step - loss: 1.3296 - acc: 0.5894 - val_loss: 1.3029 - val_acc: 0.5993\n",
      "Epoch 8/10\n",
      "31987/31987 [==============================] - 11s 329us/step - loss: 1.3084 - acc: 0.5957 - val_loss: 1.2914 - val_acc: 0.6018\n",
      "Epoch 9/10\n",
      "31987/31987 [==============================] - 11s 329us/step - loss: 1.2912 - acc: 0.5986 - val_loss: 1.2693 - val_acc: 0.6080\n",
      "Epoch 10/10\n",
      "31987/31987 [==============================] - 11s 332us/step - loss: 1.2771 - acc: 0.6028 - val_loss: 1.2553 - val_acc: 0.6132\n",
      "経過時間：108.55376291275024\n"
     ]
    }
   ],
   "source": [
    "from keras.utils import np_utils  \n",
    "y_train_one_hot = np_utils.to_categorical(df_Y_train, num_classes=15).astype('int') \n",
    "y_test_one_hot = np_utils.to_categorical(df_Y_test, num_classes=15).astype('int')\n",
    "model.compile(loss='categorical_crossentropy',\n",
    "              optimizer=SGD(),\n",
    "              metrics=['accuracy'])    \n",
    "\n",
    "t1 = time.time()\n",
    "hist = model.fit(df_X_train,\n",
    "                 y_train_one_hot,\n",
    "                 epochs=10,\n",
    "                 validation_data=(df_X_test, y_test_one_hot),\n",
    "                 verbose=1,\n",
    "                batch_size=100)\n",
    "t2 = time.time()\n",
    "elapsed_time = t2-t1\n",
    "print(\"経過時間：{}\".format(elapsed_time))"
   ]
  },
  {
   "cell_type": "markdown",
   "metadata": {},
   "source": [
    "# ロジスティック"
   ]
  },
  {
   "cell_type": "code",
   "execution_count": 140,
   "metadata": {},
   "outputs": [
    {
     "name": "stdout",
     "output_type": "stream",
     "text": [
      "経過時間：21.399709939956665\n"
     ]
    }
   ],
   "source": [
    "from sklearn.linear_model import LogisticRegression\n",
    "t1 = time.time()\n",
    "clf = LogisticRegression()\n",
    "clf.fit(df_X_train, df_Y_train)\n",
    "t2 = time.time()\n",
    "elapsed_time = t2-t1\n",
    "print(\"経過時間：{}\".format(elapsed_time))"
   ]
  },
  {
   "cell_type": "markdown",
   "metadata": {},
   "source": [
    "# ランダムフォレスト"
   ]
  },
  {
   "cell_type": "code",
   "execution_count": 60,
   "metadata": {},
   "outputs": [
    {
     "name": "stdout",
     "output_type": "stream",
     "text": [
      "精度（訓練）: 0.984056022759246\n",
      "精度（検証）: 0.591522579703801\n"
     ]
    }
   ],
   "source": [
    "from sklearn.metrics import accuracy_score\n",
    "print('精度（訓練）:',accuracy_score(df_Y_train, rfc_1.predict(df_X_train)))\n",
    "print('精度（検証）:',accuracy_score(df_Y_test, rfc_1.predict(df_X_test)))"
   ]
  },
  {
   "cell_type": "markdown",
   "metadata": {},
   "source": [
    "# 勾配ブースティング"
   ]
  },
  {
   "cell_type": "code",
   "execution_count": 61,
   "metadata": {},
   "outputs": [
    {
     "name": "stdout",
     "output_type": "stream",
     "text": [
      "精度（訓練）: 0.6839028355269328\n",
      "精度（検証）: 0.6201940614284672\n"
     ]
    }
   ],
   "source": [
    "print('精度（訓練）:',accuracy_score(df_Y_train, gbct.predict(df_X_train)))\n",
    "print('精度（検証）:',accuracy_score(df_Y_test, gbct.predict(df_X_test)))"
   ]
  },
  {
   "cell_type": "markdown",
   "metadata": {},
   "source": [
    "# SVM"
   ]
  },
  {
   "cell_type": "code",
   "execution_count": 82,
   "metadata": {},
   "outputs": [
    {
     "name": "stdout",
     "output_type": "stream",
     "text": [
      "精度（訓練）: 0.6545784224841342\n",
      "精度（検証）: 0.6547019770919968\n"
     ]
    }
   ],
   "source": [
    "print('精度（訓練）:',accuracy_score(df_Y_train, rbf_svm.predict(df_X_train)))\n",
    "print('精度（検証）:',accuracy_score(df_Y_test, rbf_svm.predict(df_X_test)))"
   ]
  },
  {
   "cell_type": "markdown",
   "metadata": {},
   "source": [
    "# NN"
   ]
  },
  {
   "cell_type": "code",
   "execution_count": 117,
   "metadata": {},
   "outputs": [
    {
     "name": "stdout",
     "output_type": "stream",
     "text": [
      "精度（訓練）: 0.6029011786038078\n",
      "精度（検証）: 0.6131903407018312\n"
     ]
    }
   ],
   "source": [
    "print('精度（訓練）:',accuracy_score(df_Y_train,np.argmax(model.predict(df_X_train),axis=1)))\n",
    "print('精度（検証）:',accuracy_score(df_Y_test, np.argmax(model.predict(df_X_test),axis=1)))"
   ]
  },
  {
   "cell_type": "markdown",
   "metadata": {},
   "source": [
    "# LightGBM"
   ]
  },
  {
   "cell_type": "code",
   "execution_count": 129,
   "metadata": {},
   "outputs": [
    {
     "name": "stdout",
     "output_type": "stream",
     "text": [
      "訓練:0.8097352049270016\n",
      "検証：0.6448529948201649\n"
     ]
    }
   ],
   "source": [
    "y_pred= model1.predict(np_X_train)\n",
    "y_pred_max=np.argmax(y_pred,axis=1)\n",
    "accuracy1=sum(np_Y_train==y_pred_max)/len(np_Y_train)\n",
    "print(\"訓練:{}\".format(accuracy1))\n",
    "y_pred= model1.predict(np_X_test)\n",
    "y_pred_max=np.argmax(y_pred,axis=1)\n",
    "accuracy2=sum(np_Y_test==y_pred_max)/len(np_Y_test)\n",
    "print(\"検証：{}\".format(accuracy2))"
   ]
  },
  {
   "cell_type": "markdown",
   "metadata": {},
   "source": [
    "# ロジスティック回帰"
   ]
  },
  {
   "cell_type": "code",
   "execution_count": 139,
   "metadata": {},
   "outputs": [
    {
     "name": "stdout",
     "output_type": "stream",
     "text": [
      "精度（訓練）: 0.6299746772126176\n",
      "精度（検証）: 0.6371926752754067\n"
     ]
    }
   ],
   "source": [
    "print('精度（訓練）:',accuracy_score(df_Y_train, clf.predict(df_X_train)))\n",
    "print('精度（検証）:',accuracy_score(df_Y_test, clf.predict(df_X_test)))"
   ]
  }
 ],
 "metadata": {
  "kernelspec": {
   "display_name": "Python 3",
   "language": "python",
   "name": "python3"
  },
  "language_info": {
   "codemirror_mode": {
    "name": "ipython",
    "version": 3
   },
   "file_extension": ".py",
   "mimetype": "text/x-python",
   "name": "python",
   "nbconvert_exporter": "python",
   "pygments_lexer": "ipython3",
   "version": "3.7.4"
  }
 },
 "nbformat": 4,
 "nbformat_minor": 1
}
