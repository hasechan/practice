{
 "cells": [
  {
   "cell_type": "markdown",
   "metadata": {},
   "source": [
    "# シーケンス"
   ]
  },
  {
   "cell_type": "code",
   "execution_count": 35,
   "metadata": {},
   "outputs": [
    {
     "data": {
      "text/plain": [
       "5"
      ]
     },
     "execution_count": 35,
     "metadata": {},
     "output_type": "execute_result"
    }
   ],
   "source": [
    "def g(a,b=100):\n",
    "    return a+b\n",
    "g(2)\n",
    "#デフォルトの値を塗り替える。\n",
    "g(2,3)"
   ]
  },
  {
   "cell_type": "code",
   "execution_count": 36,
   "metadata": {},
   "outputs": [
    {
     "name": "stdout",
     "output_type": "stream",
     "text": [
      "Entering main\n",
      "Meow!\n"
     ]
    }
   ],
   "source": [
    "#モジュール：クラス、関数、定数を集めたもの。\n",
    "#これをモジュールとして読み込んだ瞬間に発動する関数をコントロールするためにnama==mainが使われる。\n",
    "def meow():\n",
    "    print(\"Meow!\")\n",
    "def main():\n",
    "    print(\"Entering main\")\n",
    "    meow()\n",
    "\n",
    "if __name__==\"__main__\":\n",
    "    main()"
   ]
  },
  {
   "cell_type": "markdown",
   "metadata": {},
   "source": [
    "# 長年の疑問"
   ]
  },
  {
   "cell_type": "code",
   "execution_count": 39,
   "metadata": {},
   "outputs": [
    {
     "name": "stdout",
     "output_type": "stream",
     "text": [
      "John Smith\n"
     ]
    }
   ],
   "source": [
    "class Person:\n",
    "    def __init__(self,first_name=\"\",last_name=\"\"):\n",
    "        self.first_name=first_name#クラスを読み込んだ時に初期から備わる情報群\n",
    "        self.last_name=last_name\n",
    "    def get_name(self):\n",
    "        return self.first_name+\" \"+self.last_name#クラスを読み込んだ時にその変数がプラスアルファで使える機能群\n",
    "    def __str__(self):\n",
    "        return self.last_name+\",\"+self.first_name\n",
    "person1=Person(\"John\",\"Smith\")\n",
    "print(person1.get_name())"
   ]
  }
 ],
 "metadata": {
  "kernelspec": {
   "display_name": "Python 3",
   "language": "python",
   "name": "python3"
  },
  "language_info": {
   "codemirror_mode": {
    "name": "ipython",
    "version": 3
   },
   "file_extension": ".py",
   "mimetype": "text/x-python",
   "name": "python",
   "nbconvert_exporter": "python",
   "pygments_lexer": "ipython3",
   "version": "3.7.4"
  }
 },
 "nbformat": 4,
 "nbformat_minor": 2
}
